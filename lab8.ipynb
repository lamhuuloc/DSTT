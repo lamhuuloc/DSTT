{
 "cells": [
  {
   "cell_type": "code",
   "execution_count": 2,
   "id": "ff5f2388",
   "metadata": {},
   "outputs": [
    {
     "name": "stdout",
     "output_type": "stream",
     "text": [
      "[ 18 -11   9  -8]\n",
      "[ 9.  -5.5  4.5 -4. ]\n"
     ]
    }
   ],
   "source": [
    "#Bài tập 1\n",
    "import numpy as np \n",
    "u = np.array([2,-1,5,0])\n",
    "v = np.array([4,3,1,-1])\n",
    "w = np.array([-6,2,0,3])\n",
    "x = 2*u-(v+3*w)\n",
    "print (x)\n",
    "x = 0.5*(2*u-v-3*w) \n",
    "print (x)"
   ]
  },
  {
   "cell_type": "code",
   "execution_count": 3,
   "id": "db8d6887",
   "metadata": {},
   "outputs": [
    {
     "name": "stdout",
     "output_type": "stream",
     "text": [
      "[ 1. -2. -1.]\n"
     ]
    }
   ],
   "source": [
    "#Bài toán 2\n",
    "from numpy import linalg\n",
    "A = np.matrix([[0, -1, 3],[1, 1, 1],[4, 2, 2]])\n",
    "B = np.array([-1, -2, -2])\n",
    "X = np.linalg.solve(A, B)\n",
    "print (X) "
   ]
  },
  {
   "cell_type": "code",
   "execution_count": 5,
   "id": "7b7e5045",
   "metadata": {},
   "outputs": [
    {
     "name": "stdout",
     "output_type": "stream",
     "text": [
      "LA.inv(A): Singular matrix\n",
      "LA.inv(B): Singular matrix\n",
      "LA.inv(A+B) = [[1. 0.]\n",
      " [0. 1.]]\n",
      "LA.det(A) = 0.0\n",
      "LA.det(B) = 0.0\n",
      "LA.det(A+B) = 1.0\n"
     ]
    }
   ],
   "source": [
    "#Bài toán 3\n",
    "A = np.matrix([[1,0],[0,0]])\n",
    "B = np.matrix([[0,0],[0,1]])\n",
    "from numpy import linalg as LA\n",
    "try:\n",
    "    print(\"LA.inv(A) =\", LA.inv(A))\n",
    "except Exception as e:\n",
    "    print(\"LA.inv(A):\", e)\n",
    "try:\n",
    "    print(\"LA.inv(B) =\", LA.inv(B))\n",
    "except Exception as e:\n",
    "    print(\"LA.inv(B):\", e)\n",
    "try:\n",
    "    print(\"LA.inv(A+B) =\", LA.inv(A+B))\n",
    "except Exception as e:\n",
    "    print(\"LA.inv(A+B):\", e)\n",
    "print(\"LA.det(A) =\", LA.det(A))\n",
    "print(\"LA.det(B) =\", LA.det(B))\n",
    "print(\"LA.det(A+B) =\", LA.det(A+B))"
   ]
  },
  {
   "cell_type": "code",
   "execution_count": null,
   "id": "294cffdc",
   "metadata": {},
   "outputs": [
    {
     "name": "stdout",
     "output_type": "stream",
     "text": [
      "Matrix([[c*x, c*y], [c*y, c*x]])\n"
     ]
    },
    {
     "data": {
      "text/plain": [
       "True"
      ]
     },
     "execution_count": 7,
     "metadata": {},
     "output_type": "execute_result"
    }
   ],
   "source": [
    "#Bài toán 4\n",
    "import sympy as sp\n",
    "x, y = sp.symbols('x y')\n",
    "A = sp.Matrix([[x, y],[y, x]])\n",
    "x1, y1 = sp.symbols('x1 y1')\n",
    "A1 = sp.Matrix([[x1, y1],[y1, x1]])\n",
    "x2, y2 = sp.symbols('x2 y2')\n",
    "A2 = sp.Matrix([[x2, y2],[y2, x2]])\n",
    "A1.T\n",
    "(A1+A2).T\n",
    "((A1+A2).T).equals(A1+A2)\n",
    "c = sp.symbols('c')\n",
    "print(c*A)\n",
    "((c*A).T).equals(c*A)\n"
   ]
  },
  {
   "cell_type": "code",
   "execution_count": null,
   "id": "05df436a",
   "metadata": {},
   "outputs": [
    {
     "data": {
      "text/latex": [
       "$\\displaystyle \\emptyset$"
      ],
      "text/plain": [
       "EmptySet"
      ]
     },
     "execution_count": 9,
     "metadata": {},
     "output_type": "execute_result"
    }
   ],
   "source": [
    "#baitoan5\n",
    "import sympy as sp\n",
    "a, b, c = sp.symbols('a b c')\n",
    "\n",
    "eqs1 = [\n",
    "    a*1 + b*0 + c*(-1) - 1,\n",
    "    a*2 + b*1 + c*0   - 1,\n",
    "    a*3 + b*2 + c*1   - 1\n",
    "]\n",
    "sp.linsolve(eqs1, a, b, c)\n",
    "\n",
    "eqs2 = [\n",
    "    a*1 + b*0 + c*(-1) - 1,\n",
    "    a*2 + b*1 + c*0   + 2,\n",
    "    a*3 + b*2 + c*1   - 2\n",
    "]\n",
    "sp.linsolve(eqs2, a, b, c)\n"
   ]
  },
  {
   "cell_type": "code",
   "execution_count": 10,
   "id": "4945218d",
   "metadata": {},
   "outputs": [
    {
     "data": {
      "text/plain": [
       "{c1: 0, c2: 0, c3: 0}"
      ]
     },
     "execution_count": 10,
     "metadata": {},
     "output_type": "execute_result"
    }
   ],
   "source": [
    "#baitoan6\n",
    "import sympy as sp\n",
    "c1, c2, c3 = sp.symbols('c1 c2 c3')\n",
    "sp.solve([c1 - 2*c3, 2*c1 + c2, 3*c1 + 2*c2 + c3], [c1, c2, c3])"
   ]
  },
  {
   "cell_type": "code",
   "execution_count": 11,
   "id": "9a4c2f25",
   "metadata": {},
   "outputs": [
    {
     "data": {
      "text/plain": [
       "{c1: 0, c2: 0}"
      ]
     },
     "execution_count": 11,
     "metadata": {},
     "output_type": "execute_result"
    }
   ],
   "source": [
    "#baitoan7\n",
    "import sympy as sp\n",
    "c1, c2 = sp.symbols('c1 c2')\n",
    "u1, u2 = sp.symbols('u1 u2')\n",
    "sp.solve([c1 + c2 - u1, c1 - c2 - u2])\n",
    "\n",
    "u1 = 0\n",
    "u2 = 0\n",
    "sp.solve([c1 + c2 - u1, c1 - c2 - u2])"
   ]
  },
  {
   "cell_type": "code",
   "execution_count": null,
   "id": "64e25c45",
   "metadata": {},
   "outputs": [
    {
     "name": "stdout",
     "output_type": "stream",
     "text": [
      "[[4 4 7 7 5 5 6 6 5 5]\n",
      " [2 7 7 6 6 5 5 4 4 2]]\n"
     ]
    }
   ],
   "source": [
    "#baitap2.2a\n",
    "import numpy as np\n",
    "P = np.array([[0,0,3,3,1,1,2,2,1,1],[0,5,5,4,4,3,3,2,2,0]])\n",
    "vecdelta = np.array([4,2])\n",
    "P_T = P.T\n",
    "P_T_plus_delta = P_T + vecdelta\n",
    "P_caua = P_T_plus_delta.T\n",
    "print(P_caua)"
   ]
  },
  {
   "cell_type": "code",
   "execution_count": 13,
   "id": "7e981ae5",
   "metadata": {},
   "outputs": [
    {
     "name": "stdout",
     "output_type": "stream",
     "text": [
      "[[ 4.  4.  7.  7.  5.  5.  6.  6.  5.  5.]\n",
      " [-2.  8.  8.  6.  6.  4.  4.  2.  2. -2.]]\n"
     ]
    }
   ],
   "source": [
    "#baitap2.2b\n",
    "import numpy as np\n",
    "P = np.array([[0,0,3,3,1,1,2,2,1,1],[0,5,5,4,4,3,3,2,2,0]])\n",
    "vecdelta = np.array([4,-2])\n",
    "matran_biendoi = np.array([[1.0, 0.0],\n",
    "                           [0.0, 2.0]])\n",
    "P_caub = (P.T @ matran_biendoi + vecdelta).T\n",
    "print(P_caub)"
   ]
  },
  {
   "cell_type": "code",
   "execution_count": 14,
   "id": "97ea6563",
   "metadata": {},
   "outputs": [
    {
     "name": "stdout",
     "output_type": "stream",
     "text": [
      "g(u + v) == g(u) + g(v)? False\n",
      "g(k*u) == k * g(u)? False\n"
     ]
    }
   ],
   "source": [
    "#Cau1\n",
    "import sympy as sp\n",
    "\n",
    "x, y, z = sp.symbols('x y z')\n",
    "u = sp.Matrix([x, y, z])\n",
    "\n",
    "x1, y1, z1 = sp.symbols('x1 y1 z1')\n",
    "v = sp.Matrix([x1, y1, z1])\n",
    "\n",
    "k = sp.symbols('k')\n",
    "\n",
    "def g(vec):\n",
    "    return sp.Matrix([\n",
    "        vec[0] + vec[1],\n",
    "        vec[2] + 2,\n",
    "        0\n",
    "    ])\n",
    "\n",
    "add_left = g(u + v)\n",
    "add_right = g(u) + g(v)\n",
    "print(\"g(u + v) == g(u) + g(v)?\", sp.simplify(add_left - add_right) == sp.Matrix([0, 0, 0]))\n",
    "\n",
    "scalar_left = g(k * u)\n",
    "scalar_right = k * g(u)\n",
    "print(\"g(k*u) == k * g(u)?\", sp.simplify(scalar_left - scalar_right) == sp.Matrix([0, 0, 0]))\n"
   ]
  },
  {
   "cell_type": "code",
   "execution_count": 18,
   "id": "a4a1f0ed",
   "metadata": {},
   "outputs": [
    {
     "data": {
      "image/png": "[encoded data removed]",
      "text/plain": [
       "<Figure size 800x400 with 2 Axes>"
      ]
     },
     "metadata": {},
     "output_type": "display_data"
    }
   ],
   "source": [
    "#cau2\n",
    "import numpy as np\n",
    "import matplotlib.pyplot as plt\n",
    "\n",
    "F = np.array([[0, 1, 1, 0],\n",
    "              [0, 0, 1, 1]])\n",
    "\n",
    "T = np.array([[0, 1],\n",
    "              [1, -1]])\n",
    "\n",
    "F_biendoi = T @ F\n",
    "\n",
    "plt.figure(figsize=(8, 4))\n",
    "\n",
    "plt.subplot(1, 2, 1)\n",
    "plt.fill(F[0], F[1], color='skyblue', label='Tập F ban đầu')\n",
    "plt.axis('equal')\n",
    "plt.grid(True)\n",
    "plt.title('Trước biến đổi')\n",
    "plt.legend()\n",
    "\n",
    "plt.subplot(1, 2, 2)\n",
    "plt.fill(F_biendoi[0], F_biendoi[1], color='lightgreen', label='Tập F sau biến đổi')\n",
    "plt.axis('equal')\n",
    "plt.grid(True)\n",
    "plt.title('Sau biến đổi')\n",
    "plt.legend()\n",
    "\n",
    "plt.show()\n"
   ]
  },
  {
   "cell_type": "code",
   "execution_count": null,
   "id": "3ccb09a9",
   "metadata": {},
   "outputs": [
    {
     "name": "stdout",
     "output_type": "stream",
     "text": [
      "T(u + v) == T(u) + T(v)? True\n",
      "T(k*u) == k * T(u)? True\n"
     ]
    }
   ],
   "source": [
    "#cau3\n",
    "import sympy as sp\n",
    "\n",
    "v1, v2 = sp.symbols('v1 v2')\n",
    "u = sp.Matrix([v1, v2])\n",
    "\n",
    "v1_, v2_ = sp.symbols('v1_ v2_')\n",
    "v = sp.Matrix([v1_, v2_])\n",
    "\n",
    "k = sp.symbols('k')\n",
    "\n",
    "def T(vec):\n",
    "    return sp.Matrix([\n",
    "        vec[0] - vec[1],\n",
    "        vec[0] + 2 * vec[1]\n",
    "    ])\n",
    "\n",
    "add_left = T(u + v)\n",
    "add_right = T(u) + T(v)\n",
    "print(\"T(u + v) == T(u) + T(v)?\", sp.simplify(add_left - add_right) == sp.Matrix([0, 0]))\n",
    "\n",
    "scalar_left = T(k * u)\n",
    "scalar_right = k * T(u)\n",
    "print(\"T(k*u) == k * T(u)?\", sp.simplify(scalar_left - scalar_right) == sp.Matrix([0, 0]))\n"
   ]
  },
  {
   "cell_type": "code",
   "execution_count": 20,
   "id": "95d21434",
   "metadata": {},
   "outputs": [
    {
     "name": "stdout",
     "output_type": "stream",
     "text": [
      "Ma trận P (ma trận xoay):\n",
      "⎡1  -1⎤\n",
      "⎢     ⎥\n",
      "⎣1  1 ⎦\n",
      "\n",
      "Ma trận D (ma trận đường chéo chứa trị riêng):\n",
      "⎡8  0 ⎤\n",
      "⎢     ⎥\n",
      "⎣0  18⎦\n",
      "\n",
      "Giá trị riêng:\n",
      "{8: 1, 18: 1}\n",
      "\n",
      "Góc xoay (theo độ):\n",
      "45\n"
     ]
    }
   ],
   "source": [
    "#cau4\n",
    "import sympy as sp\n",
    "\n",
    "A = sp.Matrix([\n",
    "    [13, -5],\n",
    "    [-5, 13]\n",
    "])\n",
    "\n",
    "eigen_data = A.diagonalize()\n",
    "P, D = eigen_data\n",
    "\n",
    "print(\"Ma trận P (ma trận xoay):\")\n",
    "sp.pprint(P)\n",
    "\n",
    "print(\"\\nMa trận D (ma trận đường chéo chứa trị riêng):\")\n",
    "sp.pprint(D)\n",
    "\n",
    "eigenvals = A.eigenvals()\n",
    "print(\"\\nGiá trị riêng:\")\n",
    "sp.pprint(eigenvals)\n",
    "\n",
    "angle_rad = sp.atan2(P[1, 0], P[0, 0])\n",
    "angle_deg = sp.deg(angle_rad)\n",
    "print(\"\\nGóc xoay (theo độ):\")\n",
    "sp.pprint(angle_deg)\n"
   ]
  }
 ],
 "metadata": {
  "kernelspec": {
   "display_name": "Python 3",
   "language": "python",
   "name": "python3"
  },
  "language_info": {
   "codemirror_mode": {
    "name": "ipython",
    "version": 3
   },
   "file_extension": ".py",
   "mimetype": "text/x-python",
   "name": "python",
   "nbconvert_exporter": "python",
   "pygments_lexer": "ipython3",
   "version": "3.11.0"
  }
 },
 "nbformat": 4,
 "nbformat_minor": 5
}
