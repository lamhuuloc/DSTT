{
 "cells": [
  {
   "cell_type": "code",
   "execution_count": 1,
   "id": "360aba92",
   "metadata": {},
   "outputs": [
    {
     "name": "stdout",
     "output_type": "stream",
     "text": [
      "32\n"
     ]
    }
   ],
   "source": [
    "#baitap1.2\n",
    "import numpy as np\n",
    "a= np.array([1,2,3])\n",
    "b = np.array([4,5,6])\n",
    "tich = np.inner(a,b)\n",
    "print(tich)"
   ]
  },
  {
   "cell_type": "code",
   "execution_count": 10,
   "id": "8596e6e3",
   "metadata": {},
   "outputs": [
    {
     "name": "stdout",
     "output_type": "stream",
     "text": [
      "chuan(a,1) = 6.0\n",
      "np.linalg.norm(a,1) = 6.0\n",
      "chuan(a,2) = 3.7416573867739413\n",
      "np.linalg.norm(a,2) = 3.7416573867739413\n",
      "chuan(a,3) = 3.3019272488946263\n",
      "np.linalg.norm(a,3) = 3.3019272488946263\n",
      "chuan(a,1000) = 1.0442214818467515\n",
      "np.linalg.norm(a,1000) = inf\n",
      "np.linalg.norm(a) = 3.7416573867739413\n"
     ]
    },
    {
     "name": "stderr",
     "output_type": "stream",
     "text": [
      "C:\\Users\\MY PC\\AppData\\Local\\Packages\\PythonSoftwareFoundation.Python.3.12_qbz5n2kfra8p0\\LocalCache\\local-packages\\Python312\\site-packages\\numpy\\linalg\\_linalg.py:2788: RuntimeWarning: overflow encountered in power\n",
      "  absx **= ord\n"
     ]
    }
   ],
   "source": [
    "import math\n",
    "import numpy as np\n",
    "\n",
    "def chuan(y, k):\n",
    "    tong = 0\n",
    "    for i in range(len(y)):\n",
    "        tong = tong + abs(y[i])**k\n",
    "    ketqua = math.pow(tong, 1.0/k)  \n",
    "    return ketqua\n",
    "\n",
    "a = np.array([1, 2, 3])\n",
    "print(\"chuan(a,1) =\", chuan(a, 1))            \n",
    "print(\"np.linalg.norm(a,1) =\", np.linalg.norm(a, 1))  \n",
    "print(\"chuan(a,2) =\", chuan(a, 2))            \n",
    "print(\"np.linalg.norm(a,2) =\", np.linalg.norm(a, 2))  \n",
    "print(\"chuan(a,3) =\", chuan(a, 3))            \n",
    "print(\"np.linalg.norm(a,3) =\", np.linalg.norm(a, 3))  \n",
    "print(\"chuan(a,1000) =\", chuan(a, 1000))      \n",
    "print(\"np.linalg.norm(a,1000) =\", np.linalg.norm(a, 1000))  \n",
    "print(\"np.linalg.norm(a) =\", np.linalg.norm(a)) "
   ]
  },
  {
   "cell_type": "code",
   "execution_count": 3,
   "id": "0851817a",
   "metadata": {},
   "outputs": [
    {
     "name": "stdout",
     "output_type": "stream",
     "text": [
      "⎧   68         ⎫\n",
      "⎨x: ──, y: 1/69⎬\n",
      "⎩   69         ⎭\n"
     ]
    }
   ],
   "source": [
    "#trạng thái cân bằng (Markov)\n",
    "import sympy as sym\n",
    "x, y = sym.symbols('x y') \n",
    "xy = sym.Matrix([x,y]) \n",
    "A = sym.Matrix([[1, -68],[1,1]])\n",
    "v = sym.Matrix([0, 1])\n",
    "nghiem = sym.solve([A*xy-v])\n",
    "print(sym.pretty(nghiem))"
   ]
  },
  {
   "cell_type": "code",
   "execution_count": 4,
   "id": "fb235afd",
   "metadata": {},
   "outputs": [
    {
     "name": "stdout",
     "output_type": "stream",
     "text": [
      "[-7.000, 3.000]\n",
      "[-7, 3]\n"
     ]
    }
   ],
   "source": [
    "#baitap3.2\n",
    "import sympy\n",
    "x, y, Lambda = sympy.symbols('x y Lambda') \n",
    "I = sympy.eye(2) \n",
    "A = sympy.Matrix([[2,3],[3,-6]]) \n",
    "phuongtrinh = sympy.Eq(sympy.det(Lambda*I-A), 0) \n",
    "nghiem = sympy.solve(phuongtrinh)\n",
    "print([sympy.N(phantu,4) for phantu in nghiem]) \n",
    "print (sympy.pretty(nghiem)) \n"
   ]
  },
  {
   "cell_type": "code",
   "execution_count": 7,
   "id": "0887e5cc",
   "metadata": {},
   "outputs": [
    {
     "name": "stdout",
     "output_type": "stream",
     "text": [
      "[[-0.3  0.9]\n",
      " [ 0.3  0.1]]\n",
      "[[49  0]\n",
      " [ 0  9]]\n"
     ]
    }
   ],
   "source": [
    "#baitap3.3\n",
    "import numpy as np\n",
    "A = np.array([[2,3],[3,-6]]) \n",
    "D = np.array([[-7,0],[0,3]]) \n",
    "P = np.array([[-1.0/3, 3],[1,1]])\n",
    "from numpy import linalg\n",
    "from numpy import linalg as LA\n",
    "P1 = LA.inv(P)\n",
    "print (P1) \n",
    "A.dot(P)\n",
    "P.dot(D) \n",
    "P @ (D ** 1000) @ P1 \n",
    "print (D **2)"
   ]
  },
  {
   "cell_type": "code",
   "execution_count": 1,
   "id": "c6b8c0fb",
   "metadata": {},
   "outputs": [
    {
     "name": "stdout",
     "output_type": "stream",
     "text": [
      "Chuẩn 2 của vector a (mag1): 3.7416573867739413\n",
      "Chuẩn 2 của vector a (mag2): 3.7416573867739413\n",
      "Chuẩn 2 của vector a (mag3): 3.7416573867739413\n",
      "Chuẩn 2 của vector a (mag4): 3.7416573867739413\n"
     ]
    }
   ],
   "source": [
    "#câu 1\n",
    "import numpy as np\n",
    "import math\n",
    "a = np.array([1, 2, 3])\n",
    "mag1 = np.sqrt(a.dot(a))\n",
    "mag2 = np.sqrt(a @ a)\n",
    "mag3 = np.sqrt(np.inner(a, a))\n",
    "mag4_func = lambda x: math.sqrt(sum(i**2 for i in x))\n",
    "mag4 = mag4_func(a)\n",
    "print(\"Chuẩn 2 của vector a (mag1):\", mag1)\n",
    "print(\"Chuẩn 2 của vector a (mag2):\", mag2)\n",
    "print(\"Chuẩn 2 của vector a (mag3):\", mag3)\n",
    "print(\"Chuẩn 2 của vector a (mag4):\", mag4)\n"
   ]
  },
  {
   "cell_type": "code",
   "execution_count": 2,
   "id": "9ab8097a",
   "metadata": {},
   "outputs": [
    {
     "name": "stdout",
     "output_type": "stream",
     "text": [
      "a. Khoảng cách giữa u và v: 5.196152422706632\n",
      "b. Góc giữa u và v (radian): 0.2257261285527342\n",
      "   Góc giữa u và v (độ): 12.933154491899135\n",
      "c. Phép chiếu của u lên v: [1.66233766 2.07792208 2.49350649]\n"
     ]
    }
   ],
   "source": [
    "#câu 2\n",
    "import numpy as np\n",
    "u = np.array([1, 2, 3])\n",
    "v = np.array([4, 5, 6])\n",
    "distance = np.linalg.norm(u - v)\n",
    "print(\"a. Khoảng cách giữa u và v:\", distance)\n",
    "dot = np.dot(u, v)\n",
    "norm_u = np.linalg.norm(u)\n",
    "norm_v = np.linalg.norm(v)\n",
    "cos_theta = dot / (norm_u * norm_v)\n",
    "theta_rad = np.arccos(cos_theta)\n",
    "theta_deg = np.degrees(theta_rad)\n",
    "print(\"b. Góc giữa u và v (radian):\", theta_rad)\n",
    "print(\"   Góc giữa u và v (độ):\", theta_deg)\n",
    "projection = (np.dot(u, v) / np.dot(v, v)) * v\n",
    "print(\"c. Phép chiếu của u lên v:\", projection)"
   ]
  }
 ],
 "metadata": {
  "kernelspec": {
   "display_name": "Python 3",
   "language": "python",
   "name": "python3"
  },
  "language_info": {
   "codemirror_mode": {
    "name": "ipython",
    "version": 3
   },
   "file_extension": ".py",
   "mimetype": "text/x-python",
   "name": "python",
   "nbconvert_exporter": "python",
   "pygments_lexer": "ipython3",
   "version": "3.12.10"
  }
 },
 "nbformat": 4,
 "nbformat_minor": 5
}
