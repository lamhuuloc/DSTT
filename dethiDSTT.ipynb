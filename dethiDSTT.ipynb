{
 "cells": [
  {
   "cell_type": "code",
   "execution_count": 10,
   "id": "9ffacb4c",
   "metadata": {},
   "outputs": [
    {
     "name": "stdout",
     "output_type": "stream",
     "text": [
      "đáp án:  [2 3 1 6]\n",
      "đáp án:  [ 3 11  2 14]\n",
      "đáp án:  -5\n",
      "Góc giữa a và b:   99.594\n",
      "C * C^T =\n",
      "[[ 14  -8 -17]\n",
      " [ -8  21  18]\n",
      " [-17  18  29]]\n"
     ]
    }
   ],
   "source": [
    "#cau 1\n",
    "import numpy as np \n",
    "from math import acos, degrees\n",
    "a = np.array([3,-2,1,4])\n",
    "b = np.array([-1,5,0,2])\n",
    "c = np.array([[2,-1,3],\n",
    "             [1,4,-2],\n",
    "             [0,2,-5]])\n",
    "#a\n",
    "Sum_ab= a + b\n",
    "lin_comb = 2*a + 3*b\n",
    "print(\"đáp án: \", Sum_ab)\n",
    "print(\"đáp án: \", lin_comb)\n",
    "#b\n",
    "dot_product = np.dot(a, b)\n",
    "norm_a = np.linalg.norm(a)\n",
    "norm_b = np.linalg.norm(b)\n",
    "cos_theta = dot_product / (norm_a * norm_b)\n",
    "angle_rad = acos(cos_theta)\n",
    "angle_deg = round(degrees(angle_rad), 3)\n",
    "print(\"đáp án: \", dot_product)\n",
    "print(\"Góc giữa a và b:  \", angle_deg)\n",
    "#c\n",
    "CCT = np.dot(c, c.T)\n",
    "print(\"C * C^T =\")\n",
    "print(CCT)"
   ]
  },
  {
   "cell_type": "code",
   "execution_count": 12,
   "id": "91664e85",
   "metadata": {},
   "outputs": [
    {
     "name": "stdout",
     "output_type": "stream",
     "text": [
      "M * N =\n",
      "[[  3   7   3  -5]\n",
      " [-18  24   0  30]\n",
      " [  7  19  22 -14]\n",
      " [-13   3   5  15]]\n",
      "Định thức của M = 409\n",
      "Hạng của ma trận N = 4\n"
     ]
    }
   ],
   "source": [
    "#cau 2\n",
    "import numpy as np\n",
    "M = np.array([\n",
    "    [2, -1, 3, 0],\n",
    "    [1, 4, -2, 5],\n",
    "    [0, 2, 6, -3],\n",
    "    [-1, 0, 1, 4]\n",
    "])\n",
    "N = np.array([\n",
    "    [1, 3, -2, 0],\n",
    "    [-1, 5, 2, 2],\n",
    "    [0, 2, 3, -1],\n",
    "    [-3, 1, 0, 4]\n",
    "])\n",
    "#a\n",
    "product = np.dot(M, N)\n",
    "print(\"M * N =\")\n",
    "print(product)\n",
    "\n",
    "#b\n",
    "if M.shape[0] == M.shape[1]:\n",
    "    det_M = round(np.linalg.det(M))\n",
    "    print(\"Định thức của M =\", det_M)\n",
    "else:\n",
    "    print(\"Không thể tính định thức vì M không phải ma trận vuông.\")\n",
    "\n",
    "#c \n",
    "rank_N = np.linalg.matrix_rank(N)\n",
    "print(\"Hạng của ma trận N =\", rank_N)\n"
   ]
  },
  {
   "cell_type": "code",
   "execution_count": 13,
   "metadata": {},
   "outputs": [
    {
     "name": "stdout",
     "output_type": "stream",
     "text": [
      "Ma trận nghịch đảo P^(-1):\n",
      "[[ 0.5    0.1    0.1   -0.3  ]\n",
      " [-0.143  0.2    0.057  0.114]\n",
      " [-0.036 -0.05   0.164  0.079]\n",
      " [-0.321 -0.05  -0.121  0.507]]\n",
      "Nghiệm của hệ phương trình là:\n",
      "[2.    1.714 0.429 0.857]\n",
      "Kiểm tra P * x:\n",
      "P * x = [6. 8. 3. 7.]\n",
      "So với b = [6 8 3 7]\n"
     ]
    }
   ],
   "source": [
    "#cau 3 \n",
    "import numpy as np\n",
    "P = np.array([\n",
    "    [3, -1, 0, 2],\n",
    "    [1, 4, -2, 0],\n",
    "    [0, 1, 5, -1],\n",
    "    [2, 0, 1, 3]\n",
    "])\n",
    "b = np.array([6, 8, 3, 7])\n",
    "#a\n",
    "try:\n",
    "    P_inv = np.linalg.inv(P)\n",
    "    print(\"Ma trận nghịch đảo P^(-1):\")\n",
    "    print(np.round(P_inv, 3))\n",
    "except np.linalg.LinAlgError:\n",
    "    print(\"a) Ma trận P không khả nghịch (det = 0)\")\n",
    "#b\n",
    "x = np.dot(P_inv, b)\n",
    "print(\"Nghiệm của hệ phương trình là:\")\n",
    "print(np.round(x, 3))\n",
    "#c\n",
    "b_check = np.dot(P, x)\n",
    "print(\"Kiểm tra P * x:\")\n",
    "print(\"P * x =\", np.round(b_check, 3))\n",
    "print(\"So với b =\", b)\n"
   ]
  },
  {
   "cell_type": "code",
   "execution_count": 21,
   "metadata": {},
   "outputs": [
    {
     "name": "stdout",
     "output_type": "stream",
     "text": [
      "a) Các giá trị riêng của ma trận Q:\n",
      "  Giá trị riêng thứ 1 = (6.3553+0j)\n",
      "  Giá trị riêng thứ 2 = (2.8223+1.0773j)\n",
      "  Giá trị riêng thứ 3 = (2.8223-1.0773j)\n",
      "\n",
      "b) Các vector riêng tương ứng với các giá trị riêng:\n",
      "Vector riêng 1 = [ 0.7485+0.j -0.1894+0.j  0.6356+0.j]\n",
      "Vector riêng 2 = [-0.3742+0.3423j  0.0947+0.5743j  0.6356+0.j    ]\n",
      "Vector riêng 3 = [-0.3742-0.3423j  0.0947-0.5743j  0.6356-0.j    ]\n",
      "\n",
      "c) Các vector riêng đã được chuẩn hóa (độ dài = 1):\n",
      "Vector riêng 1 (chuẩn hóa) = [ 0.7485+0.j -0.1894+0.j  0.6356+0.j]\n",
      "Vector riêng 2 (chuẩn hóa) = [-0.3742+0.3423j  0.0947+0.5743j  0.6356+0.j    ]\n",
      "Vector riêng 3 (chuẩn hóa) = [-0.3742-0.3423j  0.0947-0.5743j  0.6356-0.j    ]\n"
     ]
    }
   ],
   "source": [
    "#cau 4\n",
    "import numpy as np\n",
    "Q = np.array([\n",
    "    [5, -2, 1],\n",
    "    [0, 3, -1],\n",
    "    [2, 0, 4]\n",
    "])\n",
    "#a\n",
    "#a\n",
    "giatri_rieng, vector_rieng = np.linalg.eig(Q)\n",
    "print(\"a) Các giá trị riêng của ma trận Q:\")\n",
    "for i in range(len(giatri_rieng)):\n",
    "    val = giatri_rieng[i]\n",
    "    print(f\"  Giá trị riêng thứ {i+1} = {np.round(val, 4)}\")\n",
    "#b\n",
    "print(\"\\nb) Các vector riêng tương ứng với các giá trị riêng:\")\n",
    "for i in range(vector_rieng.shape[1]):\n",
    "    vec = vector_rieng[:, i] \n",
    "    print(f\"Vector riêng {i+1} = {np.round(vec, 4)}\")\n",
    "#c\n",
    "print(\"\\nc) Các vector riêng đã được chuẩn hóa (độ dài = 1):\")\n",
    "for i in range(vector_rieng.shape[1]):\n",
    "    vec = vector_rieng[:, i]\n",
    "    vec_chuanhoa = vec / np.linalg.norm(vec)\n",
    "    print(f\"Vector riêng {i+1} (chuẩn hóa) = {np.round(vec_chuanhoa, 4)}\")\n",
    "\n"
   ]
  },
  {
   "cell_type": "code",
   "execution_count": 26,
   "id": "2799893d",
   "metadata": {},
   "outputs": [
    {
     "name": "stdout",
     "output_type": "stream",
     "text": [
      "Nghiệm của hệ phương trình Rx = b là:\n",
      "[2.7882 1.5294 1.1882]\n",
      "Định thức của R = 85.0\n",
      "=> R là ma trận khả nghịch.\n",
      "Ma trận nghịch đảo của R:\n",
      "[[ 0.2235  0.1059 -0.0471]\n",
      " [-0.0588  0.2353  0.1176]\n",
      " [ 0.0235 -0.0941  0.1529]]\n",
      "Nghiệm giải lại bằng ma trận nghịch đảo:\n",
      "[2.7882 1.5294 1.1882]\n",
      "Hai nghiệm có giống nhau không True\n",
      "Chuẩn Frobenius của ma trận R là: 8.0\n"
     ]
    }
   ],
   "source": [
    "#cau 5\n",
    "import numpy as np\n",
    "R = np.array([\n",
    "    [4, -1, 2],\n",
    "    [1, 3, -2],\n",
    "    [0, 2, 5]\n",
    "])\n",
    "b = np.array([12, 5, 9])\n",
    "#a\n",
    "x = np.linalg.solve(R, b)\n",
    "print(\"Nghiệm của hệ phương trình Rx = b là:\")\n",
    "print(np.round(x, 4))\n",
    "#b\n",
    "det_R = np.linalg.det(R)\n",
    "print(\"Định thức của R =\", round(det_R, 4))\n",
    "if det_R != 0:\n",
    "    print(\"=> R là ma trận khả nghịch.\")\n",
    "    R_inv = np.linalg.inv(R)\n",
    "    print(\"Ma trận nghịch đảo của R:\")\n",
    "    print(np.round(R_inv, 4))\n",
    "    x_inv = np.dot(R_inv, b)\n",
    "    print(\"Nghiệm giải lại bằng ma trận nghịch đảo:\")\n",
    "    print(np.round(x_inv, 4))\n",
    "    print(\"Hai nghiệm có giống nhau không\", np.allclose(x, x_inv))\n",
    "else:\n",
    "    print(\"R không khả nghịch.\")\n",
    "#c\n",
    "fro_norm = np.linalg.norm(R, 'fro')\n",
    "print(\"Chuẩn Frobenius của ma trận R là:\", round(fro_norm, 4))\n"
   ]
  }
 ],
 "metadata": {
  "kernelspec": {
   "display_name": "Python 3",
   "language": "python",
   "name": "python3"
  },
  "language_info": {
   "codemirror_mode": {
    "name": "ipython",
    "version": 3
   },
   "file_extension": ".py",
   "mimetype": "text/x-python",
   "name": "python",
   "nbconvert_exporter": "python",
   "pygments_lexer": "ipython3",
   "version": "3.11.0"
  }
 },
 "nbformat": 4,
 "nbformat_minor": 5
}
