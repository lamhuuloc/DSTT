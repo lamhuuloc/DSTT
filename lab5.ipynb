{
 "cells": [
  {
   "cell_type": "code",
   "execution_count": 5,
   "id": "5ee1fb1b",
   "metadata": {},
   "outputs": [
    {
     "name": "stdout",
     "output_type": "stream",
     "text": [
      "[[1 2]\n",
      " [3 4]]\n"
     ]
    }
   ],
   "source": [
    "#baitap1.1\n",
    "import numpy as np\n",
    "D = np.array([[1,2],[3,4]])\n",
    "E= np.array([[1,2],[3,5]])\n",
    "np.copyto(E,D)\n",
    "np.copyto(E,D)\n",
    "print(E)"
   ]
  },
  {
   "cell_type": "code",
   "execution_count": 15,
   "id": "0e5c92a3",
   "metadata": {},
   "outputs": [
    {
     "name": "stdout",
     "output_type": "stream",
     "text": [
      "[[1. 0. 0. 0. 0.]\n",
      " [0. 1. 0. 0. 0.]\n",
      " [0. 0. 1. 0. 0.]\n",
      " [0. 0. 0. 1. 0.]\n",
      " [0. 0. 0. 0. 1.]]\n",
      "[[-0.65551616 -0.73094366]\n",
      " [ 1.09143009 -0.27741626]\n",
      " [-0.33053377 -0.58416613]]\n",
      "[[0. 0. 0. 0.]\n",
      " [0. 0. 0. 0.]\n",
      " [0. 0. 0. 0.]\n",
      " [0. 0. 0. 0.]]\n"
     ]
    }
   ],
   "source": [
    "#baitap1.3\n",
    "from numpy import matlib\n",
    "G = matlib.identity(5)\n",
    "print(G)\n",
    "H = matlib.randn(3, 2)\n",
    "print(H)\n",
    "K = matlib.zeros([4,4])\n",
    "print(K) "
   ]
  },
  {
   "cell_type": "code",
   "execution_count": 18,
   "id": "a789d744",
   "metadata": {},
   "outputs": [
    {
     "name": "stdout",
     "output_type": "stream",
     "text": [
      "[[165707065  80143857]\n",
      " [ 52746197  25510582]]\n",
      "3.1415926535897936\n"
     ]
    }
   ],
   "source": [
    "#baitap2.2\n",
    "import numpy as np\n",
    "c = [3, 7, 15, 1, 292, 1, 1, 1, 2, 1, 3, 1, 14, 2] \n",
    "M = np.matrix([[1,2],[3,4]]) \n",
    "for i in range(len(c)):\n",
    "    ci = np.matrix([[1,1],[1,0]])\n",
    "    ci[0, 0] = c[i]\n",
    "    if (i==0):\n",
    "        M = ci\n",
    "    else:\n",
    "        M = M.dot(ci) \n",
    "print(M)\n",
    "print (M[0,0]/M[1,0]) \n"
   ]
  },
  {
   "cell_type": "code",
   "execution_count": 19,
   "id": "4f8149b0",
   "metadata": {},
   "outputs": [
    {
     "name": "stdout",
     "output_type": "stream",
     "text": [
      "A1 =\n",
      " [[1.00000000e+00 0.00000000e+00]\n",
      " [1.11022302e-16 1.00000000e+00]]\n",
      "A2 =\n",
      " [[-4. ]\n",
      " [ 4.5]]\n",
      "A =\n",
      " [[-4. ]\n",
      " [ 4.5]]\n"
     ]
    }
   ],
   "source": [
    "import numpy as np\n",
    "\n",
    "X = np.array([[1, 2], [3, 4]])\n",
    "Y = np.array([[5], [6]])\n",
    "XT = X.T\n",
    "A1 = np.linalg.inv(X).dot(X)\n",
    "A2 = np.linalg.inv(X).dot(Y)\n",
    "A = A1.dot(A2)\n",
    "print(\"A1 =\\n\", A1)\n",
    "print(\"A2 =\\n\", A2)\n",
    "print(\"A =\\n\", A)"
   ]
  },
  {
   "cell_type": "code",
   "execution_count": 24,
   "id": "62fdab39",
   "metadata": {},
   "outputs": [
    {
     "name": "stdout",
     "output_type": "stream",
     "text": [
      "Phương trình tuyến tính: y = 12.1 + (-1.9)·x\n"
     ]
    }
   ],
   "source": [
    "import numpy as np\n",
    "def bpcuctieu(a): \n",
    "    b = []\n",
    "    o1 = []\n",
    "    for i in range(len(a)): \n",
    "        o1.append(1.0)\n",
    "        b.append((i+1)*1.0) \n",
    "    x = np.array([o1, b])\n",
    "    u = np.dot(x, x.T)\n",
    "    y = np.array(a)\n",
    "    from numpy import linalg \n",
    "    u_1 =np.linalg.inv(u)\n",
    "    v = np.dot(u_1, x) \n",
    "    A = np.dot(v, y)\n",
    "    return A \n",
    "dulieu = [10.0, 8, 7, 5, 2]\n",
    "A = bpcuctieu(dulieu)\n",
    "print(f\"Phương trình tuyến tính: y = {A[0]:.1f} + ({A[1]:.1f})·x\")"
   ]
  }
 ],
 "metadata": {
  "kernelspec": {
   "display_name": "Python 3",
   "language": "python",
   "name": "python3"
  },
  "language_info": {
   "codemirror_mode": {
    "name": "ipython",
    "version": 3
   },
   "file_extension": ".py",
   "mimetype": "text/x-python",
   "name": "python",
   "nbconvert_exporter": "python",
   "pygments_lexer": "ipython3",
   "version": "3.12.10"
  }
 },
 "nbformat": 4,
 "nbformat_minor": 5
}
