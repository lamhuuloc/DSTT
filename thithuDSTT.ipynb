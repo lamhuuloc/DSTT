{
 "cells": [
  {
   "cell_type": "code",
   "execution_count": 6,
   "id": "27515619",
   "metadata": {},
   "outputs": [
    {
     "name": "stdout",
     "output_type": "stream",
     "text": [
      "a) A + B = [3 3 1 5]\n",
      "a) 3A - 2B = [  4 -11  13 -10]\n",
      "b) A · B = -8\n",
      "b) Góc giữa A và B = 108.376 độ\n",
      "c) C^T · C =\n",
      " [[ 5  0 -1]\n",
      " [ 0 14 10]\n",
      " [-1 10 17]]\n"
     ]
    }
   ],
   "source": [
    "#cau 1\n",
    "import numpy as np\n",
    "from numpy.linalg import norm\n",
    "from numpy import dot, arccos, degrees\n",
    "A = np.array([2, -1, 3, 0])\n",
    "B = np.array([1, 4, -2, 5])\n",
    "C = np.array([\n",
    "    [1, 2, -1],\n",
    "    [0, 3, 4],\n",
    "    [2, -1, 0]\n",
    "])\n",
    "tong = A + B\n",
    "bieuthuc = 3 * A - 2 * B\n",
    "print(\"a) A + B =\", tong)\n",
    "print(\"a) 3A - 2B =\", bieuthuc)\n",
    "tich_vo_huong = dot(A, B)\n",
    "goc = degrees(arccos(tich_vo_huong / (norm(A) * norm(B))))\n",
    "print(\"b) A · B =\", tich_vo_huong)\n",
    "print(\"b) Góc giữa A và B =\", round(goc, 3), \"độ\")\n",
    "Ct = C.T\n",
    "CtC = np.dot(Ct, C)\n",
    "print(\"c) C^T · C =\\n\", CtC)"
   ]
  },
  {
   "cell_type": "code",
   "execution_count": 7,
   "id": "bb799474",
   "metadata": {},
   "outputs": [
    {
     "name": "stdout",
     "output_type": "stream",
     "text": [
      "a) M x N = [[ 32  38  44  50]\n",
      " [ 80  96 112 128]\n",
      " [128 154 180 206]\n",
      " [ 12  14  16  18]]\n",
      "b) Định thức của M = 0.0\n",
      "c) Hạng của N = 2\n"
     ]
    }
   ],
   "source": [
    "#cau 2\n",
    "import numpy as np\n",
    "from numpy.linalg import det\n",
    "from numpy.linalg import matrix_rank\n",
    "M = np.array([\n",
    "    [1, 2, 3, 0],\n",
    "    [4, 5, 6, 1],\n",
    "    [7, 8, 9, 2],\n",
    "    [0, 1, 1, 0]\n",
    "])\n",
    "\n",
    "N = np.array([\n",
    "    [0, 1, 2, 3],\n",
    "    [4, 5, 6, 7],\n",
    "    [8, 9, 10, 11],\n",
    "    [12, 13, 14, 15]\n",
    "])\n",
    "\n",
    "tich_MN = np.dot(M, N)\n",
    "print(\"a) M x N =\", tich_MN)\n",
    "dinh_thuc_M = det(M)\n",
    "print(\"b) Định thức của M =\", round(dinh_thuc_M, 3))\n",
    "hang_N = matrix_rank(N)\n",
    "print(\"c) Hạng của N =\", hang_N)"
   ]
  },
  {
   "cell_type": "code",
   "execution_count": 8,
   "id": "7ce63c6b",
   "metadata": {},
   "outputs": [
    {
     "name": "stdout",
     "output_type": "stream",
     "text": [
      "a) Ma trận nghịch đảo của P:\n",
      "[[ 0.488 -0.093  0.023 -0.209]\n",
      " [ 0.035  0.279 -0.07   0.128]\n",
      " [-0.116  0.07   0.233 -0.093]\n",
      " [-0.012 -0.093  0.023  0.291]]\n",
      "\n",
      "b) Giải hệ phương trình:\n",
      "Nghiệm x = [0.465 2.105 1.651 0.965]\n",
      "\n",
      "c) Kiểm tra nghiệm (P · x = b):\n",
      "P · x = [4. 7. 9. 5.]\n",
      "b = [4 7 9 5]\n",
      "Sai số tuyệt đối = [0.00000000e+00 1.77635684e-15 0.00000000e+00 0.00000000e+00]\n"
     ]
    }
   ],
   "source": [
    "#cau 3\n",
    "import numpy as np\n",
    "from numpy.linalg import inv, LinAlgError\n",
    "P = np.array([\n",
    "    [2, 1, 0, 1],\n",
    "    [0, 3, 1, -1],\n",
    "    [1, 0, 4, 2],\n",
    "    [0, 1, 0, 3]\n",
    "])\n",
    "\n",
    "b = np.array([4, 7, 9, 5])\n",
    "print(\"a) Ma trận nghịch đảo của P:\")\n",
    "try:\n",
    "    P_inv = inv(P)\n",
    "    print(np.round(P_inv, 3))  \n",
    "except LinAlgError:\n",
    "    print(\"Ma trận P không khả nghịch (det(P) = 0).\")\n",
    "print(\"\\nb) Giải hệ phương trình:\")\n",
    "x = np.dot(P_inv, b)\n",
    "print(\"Nghiệm x =\", np.round(x, 3))\n",
    "print(\"\\nc) Kiểm tra nghiệm (P · x = b):\")\n",
    "b_kiemtra = np.dot(P, x)\n",
    "print(\"P · x =\", b_kiemtra)\n",
    "print(\"b =\", b)\n",
    "print(\"Sai số tuyệt đối =\", np.abs(b_kiemtra - b))"
   ]
  },
  {
   "cell_type": "code",
   "execution_count": null,
   "id": "f21fbd6b",
   "metadata": {},
   "outputs": [
    {
     "name": "stdout",
     "output_type": "stream",
     "text": [
      "a) Các giá trị riêng (eigenvalues) của Q:\n",
      "  λ1 = (3.4534+0j)\n",
      "  λ2 = (2.7733+1.4677j)\n",
      "  λ3 = (2.7733-1.4677j)\n",
      "b) Các vector riêng tương ứng (chưa chuẩn hóa):\n",
      "  v1 = [0.8333+0.j 0.4555+0.j 0.3134+0.j]\n",
      "  v2 = [-0.2621-0.3135j -0.7817+0.j     -0.2196+0.4169j]\n",
      "  v3 = [-0.2621+0.3135j -0.7817-0.j     -0.2196-0.4169j]\n",
      "c) Vector riêng đã chuẩn hóa (độ dài = 1):\n",
      "  v1_normalized = [0.8333+0.j 0.4555+0.j 0.3134+0.j]\n",
      "  v2_normalized = [-0.2621-0.3135j -0.7817+0.j     -0.2196+0.4169j]\n",
      "  v3_normalized = [-0.2621+0.3135j -0.7817+0.j     -0.2196-0.4169j]\n"
     ]
    }
   ],
   "source": [
    "#cau 4\n",
    "import numpy as np\n",
    "from numpy.linalg import eig, norm\n",
    "Q = np.array([\n",
    "    [4, -1, 0],\n",
    "    [1, 3, -2],\n",
    "    [0, 1, 2]\n",
    "])\n",
    "eigenvalues, eigenvectors = eig(Q)\n",
    "print(\"a) Các giá trị riêng (eigenvalues) của Q:\")\n",
    "for i, val in enumerate(eigenvalues, 1):\n",
    "    print(f\"  λ{i} = {np.round(val, 4)}\")\n",
    "print(\"b) Các vector riêng tương ứng (chưa chuẩn hóa):\")\n",
    "for i, vec in enumerate(eigenvectors.T, 1):\n",
    "    print(f\"  v{i} = {np.round(vec, 4)}\")\n",
    "print(\"c) Vector riêng đã chuẩn hóa (độ dài = 1):\")\n",
    "for i, vec in enumerate(eigenvectors.T, 1):\n",
    "    normed = vec / norm(vec)\n",
    "    print(f\"  v{i}_normalized = {np.round(normed, 4)}\")\n"
   ]
  },
  {
   "cell_type": "code",
   "execution_count": 11,
   "id": "3efc618b",
   "metadata": {},
   "outputs": [
    {
     "name": "stdout",
     "output_type": "stream",
     "text": [
      "a) Nghiệm hệ phương trình Rx = b bằng np.linalg.solve():\n",
      "   x = [2.7826 0.0435 2.4348]\n",
      "\n",
      "b) Kiểm tra khả nghịch và giải bằng ma trận nghịch đảo:\n",
      "   Ma trận R khả nghịch.\n",
      "   Ma trận nghịch đảo R^(-1):\n",
      " [[-0.0435  0.4783 -0.087 ]\n",
      " [-0.3913  0.3043  0.2174]\n",
      " [ 0.087   0.0435  0.1739]]\n",
      "   Nghiệm hệ bằng nghịch đảo: x = [2.7826 0.0435 2.4348]\n",
      "   So sánh hai nghiệm (x1 == x2?): True\n",
      "\n",
      "c) Chuẩn Frobenius của ma trận R: 6.0828\n"
     ]
    }
   ],
   "source": [
    "#cau 5\n",
    "import numpy as np\n",
    "from numpy.linalg import solve, inv, det, norm\n",
    "R = np.array([\n",
    "    [1, -2, 3],\n",
    "    [2, 0, 1],\n",
    "    [-1, 1, 4]\n",
    "])\n",
    "b = np.array([10, 8, 7])\n",
    "x1 = solve(R, b)\n",
    "print(\"a) Nghiệm hệ phương trình Rx = b bằng np.linalg.solve():\")\n",
    "print(\"   x =\", np.round(x1, 4))\n",
    "print(\"\\nb) Kiểm tra khả nghịch và giải bằng ma trận nghịch đảo:\")\n",
    "if det(R) != 0:\n",
    "    R_inv = inv(R)\n",
    "    x2 = R_inv @ b\n",
    "    print(\"   Ma trận R khả nghịch.\")\n",
    "    print(\"   Ma trận nghịch đảo R^(-1):\\n\", np.round(R_inv, 4))\n",
    "    print(\"   Nghiệm hệ bằng nghịch đảo: x =\", np.round(x2, 4))\n",
    "    print(\"   So sánh hai nghiệm (x1 == x2?):\", np.allclose(x1, x2))\n",
    "else:\n",
    "    print(\"   Ma trận R không khả nghịch (det(R) = 0)\")\n",
    "fro_norm = norm(R, 'fro')\n",
    "print(\"\\nc) Chuẩn Frobenius của ma trận R:\", np.round(fro_norm, 4))\n"
   ]
  }
 ],
 "metadata": {
  "kernelspec": {
   "display_name": "Python 3",
   "language": "python",
   "name": "python3"
  },
  "language_info": {
   "codemirror_mode": {
    "name": "ipython",
    "version": 3
   },
   "file_extension": ".py",
   "mimetype": "text/x-python",
   "name": "python",
   "nbconvert_exporter": "python",
   "pygments_lexer": "ipython3",
   "version": "3.11.0"
  }
 },
 "nbformat": 4,
 "nbformat_minor": 5
}
