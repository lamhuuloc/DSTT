{
 "cells": [
  {
   "cell_type": "code",
   "execution_count": 4,
   "id": "c7a80474",
   "metadata": {},
   "outputs": [
    {
     "data": {
      "text/plain": [
       "-1"
      ]
     },
     "execution_count": 4,
     "metadata": {},
     "output_type": "execute_result"
    }
   ],
   "source": [
    "#1. Định thức và các tính chất\n",
    "import numpy as np\n",
    "n = 4\n",
    "x = np.array(range(1,n+1))\n",
    "sigma = np.array([4,3,2,1]) \n",
    "def sgn_by_def(sigma):\n",
    "    ket_qua = 1.0\n",
    "    for i in range(len(x)-1):\n",
    "        for j in range(i+1,len(x)):\n",
    "            ket_qua = ket_qua * ((x[i]-x[j])/(sigma[i]-sigma[j]))\n",
    "        return int(ket_qua)\n",
    "sigma = np.array([2,1,3,4])\n",
    "sgn_by_def(sigma)\n",
    "sigma = np.array([1,2,3,4]) \n",
    "sgn_by_def(sigma) \n",
    "sigma = np.array([4,3,2,1])\n",
    "sgn_by_def(sigma)\n"
   ]
  },
  {
   "cell_type": "code",
   "execution_count": 21,
   "id": "2e33cfcb",
   "metadata": {},
   "outputs": [
    {
     "name": "stdout",
     "output_type": "stream",
     "text": [
      "[(1, 2, 3), (1, 3, 2), (2, 1, 3), (2, 3, 1), (3, 1, 2), (3, 2, 1)]\n"
     ]
    }
   ],
   "source": [
    "#Định thức\n",
    "from itertools import permutations\n",
    "n = 3\n",
    "x = []\n",
    "for i in range(1,n+1):\n",
    "    x.append(i)\n",
    "sn = list(permutations(x))\n",
    "print(sn)\n",
    "det = 0\n",
    "def sgn(permutation):\n",
    "    count = 0\n",
    "    perm = list(permutation)\n",
    "    for i in range(len(perm)):\n",
    "        for j in range(i+1, len(perm)):\n",
    "            if perm[i] > perm[j]:\n",
    "                count += 1\n",
    "    return (-1) ** count"
   ]
  },
  {
   "cell_type": "code",
   "execution_count": 4,
   "id": "9b434949",
   "metadata": {},
   "outputs": [
    {
     "name": "stdout",
     "output_type": "stream",
     "text": [
      "+ a11*a22 - a12*a21 \n",
      "+ a11*a22*a33 - a11*a23*a32 - a12*a21*a33 + a12*a23*a31 + a13*a21*a32 - a13*a22*a31 \n"
     ]
    }
   ],
   "source": [
    "\n",
    "import numpy as np\n",
    "import math\n",
    "from itertools import permutations\n",
    "def phatsinh_dinhthuc(n):\n",
    "    x = [i for i in range(1, n + 1)]\n",
    "    Sn = list(permutations(x))\n",
    "    dinhthuc = \"\"\n",
    "    \n",
    "    for sn in Sn:\n",
    "        sigma = np.array([sn])\n",
    "        sigma.resize((1, n))\n",
    "        product = \"\"\n",
    "        \n",
    "        for i in range(n):\n",
    "            if i != n - 1:\n",
    "                dau = sgn_by_def(sigma)\n",
    "                product = product + \"a\" + str(i + 1) + str(sn[i]) + \"*\"\n",
    "            else:\n",
    "                product = product + \"a\" + str(i + 1) + str(sn[i])\n",
    "        \n",
    "        dau = sgn_by_def(sigma)\n",
    "        if dau == 1:\n",
    "            product = \"+ \" + product\n",
    "        else:\n",
    "            product = \"- \" + product\n",
    "        dinhthuc += product + \" \"   \n",
    "    return dinhthuc\n",
    "def sgn_by_def(sigma):\n",
    "    a = sigma.flatten()\n",
    "    count = 0\n",
    "    for i in range(len(a)):\n",
    "        for j in range(i + 1, len(a)):\n",
    "            if a[i] > a[j]:\n",
    "                count += 1\n",
    "    return 1 if count % 2 == 0 else -1\n",
    "dinhthuc_2 = phatsinh_dinhthuc(2)\n",
    "dinhthuc_3 = phatsinh_dinhthuc(3)\n",
    "print(phatsinh_dinhthuc(2))\n",
    "print(phatsinh_dinhthuc(3))"
   ]
  },
  {
   "cell_type": "code",
   "execution_count": 33,
   "id": "267ec9c3",
   "metadata": {},
   "outputs": [
    {
     "name": "stdout",
     "output_type": "stream",
     "text": [
      "-14.0 -28.0 14.000000000000004\n",
      "hai nghiem cua phuong tring la:  2.0 -1.0000000000000002\n"
     ]
    }
   ],
   "source": [
    "#Hệ hai phương trình tuyến tính bậc 1\n",
    "import numpy as np\n",
    "a = np.array([[4, -2],[3, -5]])\n",
    "a1 = np.array([[10, -2],[11, -5]]) \n",
    "a2 = np.array([[4, 10],[3, 11]]) \n",
    "from scipy import linalg\n",
    "deta = linalg.det(a) \n",
    "deta1 = linalg.det(a1) \n",
    "deta2 = linalg.det(a2) \n",
    "print(deta,deta1,deta2)\n",
    "if(deta!=0):\n",
    "    x1 = deta1/deta\n",
    "    x2 = deta2/deta\n",
    "    print(\"hai nghiem cua phuong tring la: \",x1,x2)"
   ]
  },
  {
   "cell_type": "code",
   "execution_count": 1,
   "id": "1e90a807",
   "metadata": {},
   "outputs": [
    {
     "name": "stdout",
     "output_type": "stream",
     "text": [
      "Định thức (dùng scipy): 0.0 0.0 0.0 0.0\n",
      "Định thức (hàm tự viết): 0 0 0 0\n",
      "Hệ phương trình vô nghiệm hoặc vô số nghiệm.\n"
     ]
    }
   ],
   "source": [
    "#Hệ ba phương trình tuyến tính bậc 1\n",
    "import numpy as np\n",
    "from scipy import linalg\n",
    "def tinhtoan_dinhthuc(matrix):\n",
    "    if len(matrix) == 1:\n",
    "        return matrix[0][0]\n",
    "    if len(matrix) == 2:\n",
    "        return matrix[0][0]*matrix[1][1] - matrix[0][1]*matrix[1][0] \n",
    "    det = 0\n",
    "    for i in range(len(matrix)):\n",
    "        sub_matrix = [row[:i] + row[i+1:] for row in matrix[1:]]\n",
    "        det += ((-1)**i) * matrix[0][i] * tinhtoan_dinhthuc(sub_matrix)\n",
    "    return det\n",
    "a = np.array([[-1, 2, -3],\n",
    "              [ 2, -2, 1],\n",
    "              [ 3, -4, 4]])\n",
    "b = np.array([1, 3, 2])\n",
    "a1 = a.copy()\n",
    "a1[:, 0] = b\n",
    "a2 = a.copy()\n",
    "a2[:, 1] = b\n",
    "a3 = a.copy()\n",
    "a3[:, 2] = b\n",
    "deta = linalg.det(a)\n",
    "deta1 = linalg.det(a1)\n",
    "deta2 = linalg.det(a2)\n",
    "deta3 = linalg.det(a3)\n",
    "print(\"Định thức (dùng scipy):\", deta, deta1, deta2, deta3)\n",
    "A = a.tolist()\n",
    "B = b.tolist()\n",
    "A1 = [row[:] for row in A]\n",
    "A2 = [row[:] for row in A]\n",
    "A3 = [row[:] for row in A]\n",
    "for i in range(3):\n",
    "    A1[i][0] = B[i]\n",
    "    A2[i][1] = B[i]\n",
    "    A3[i][2] = B[i]\n",
    "detA = tinhtoan_dinhthuc(A)\n",
    "detA1 = tinhtoan_dinhthuc(A1)\n",
    "detA2 = tinhtoan_dinhthuc(A2)\n",
    "detA3 = tinhtoan_dinhthuc(A3)\n",
    "print(\"Định thức (hàm tự viết):\", detA, detA1, detA2, detA3)\n",
    "if(deta!=0):\n",
    "    x = detA1 / detA\n",
    "    y = detA2 / detA\n",
    "    z = detA3 / detA\n",
    "    print(\"Nghiệm theo hàm tự viết: x =\", x, \", y =\", y, \", z =\", z)\n",
    "else:\n",
    "    print(\"Hệ phương trình vô nghiệm hoặc vô số nghiệm.\")"
   ]
  },
  {
   "cell_type": "code",
   "execution_count": null,
   "id": "4494386f",
   "metadata": {},
   "outputs": [
    {
     "name": "stdout",
     "output_type": "stream",
     "text": [
      "Diện tích tam giác là: 3/2\n"
     ]
    }
   ],
   "source": [
    "#Tính diện tích tam giác\n",
    "import sympy as sp\n",
    "TG = sp.Matrix([\n",
    "    [1, 0, 1],\n",
    "    [4, 3, 1],\n",
    "    [2, 2, 1]\n",
    "])\n",
    "area = sp.Rational(1, 2) * abs(TG.det())\n",
    "print(\"Diện tích tam giác là:\", area)"
   ]
  },
  {
   "cell_type": "code",
   "execution_count": 6,
   "id": "08b303e4",
   "metadata": {},
   "outputs": [
    {
     "name": "stdout",
     "output_type": "stream",
     "text": [
      "Determinant: -72\n",
      "Tetrahedron volume: 12.0000000000000\n"
     ]
    }
   ],
   "source": [
    "#Ứng dụng 2: Mở rộng bài toán tính diện tích thành thể tích hình tứ diện:\n",
    "from sympy import Matrix\n",
    "M = Matrix([\n",
    "    [0, 4, 1, 1],\n",
    "    [4, 0, 0, 1],\n",
    "    [3, 5, 2, 1],\n",
    "    [2, 2, 5, 1]\n",
    "])\n",
    "\n",
    "det = M.det()\n",
    "volume = abs(1/6 * det)\n",
    "print(\"Determinant:\", det)\n",
    "print(\"Tetrahedron volume:\", volume)"
   ]
  },
  {
   "cell_type": "code",
   "execution_count": 7,
   "id": "1c65d267",
   "metadata": {},
   "outputs": [
    {
     "name": "stdout",
     "output_type": "stream",
     "text": [
      "Phương trình mặt phẳng là: Eq(-4*x + 3*y - 5*z - 3, 0)\n"
     ]
    }
   ],
   "source": [
    "#Ứng dụng 4: Phương trình mặt phẳng \n",
    "from sympy import *\n",
    "x, y, z = symbols('x y z')\n",
    "MP = Matrix([\n",
    "    [x, y, z, 1],\n",
    "    [-1, 3, 2, 1],\n",
    "    [0, 1, 0, 1],\n",
    "    [-2, 0, 1, 1]\n",
    "])\n",
    "phuong_trinh = simplify(MP.det())\n",
    "print(\"Phương trình mặt phẳng là:\", Eq(phuong_trinh, 0))"
   ]
  },
  {
   "cell_type": "code",
   "execution_count": 8,
   "id": "f0d4608d",
   "metadata": {},
   "outputs": [
    {
     "name": "stdout",
     "output_type": "stream",
     "text": [
      "Ma trận hệ số kẹp (Cofactor):\n",
      "⎡-4   11   1 ⎤\n",
      "⎢            ⎥\n",
      "⎢-16  5   17 ⎥\n",
      "⎢            ⎥\n",
      "⎣14   -6  -10⎦\n",
      "\n",
      "Ma trận liên hợp (Adjoint):\n",
      "⎡-4  -16  14 ⎤\n",
      "⎢            ⎥\n",
      "⎢11   5   -6 ⎥\n",
      "⎢            ⎥\n",
      "⎣1   17   -10⎦\n"
     ]
    }
   ],
   "source": [
    "#Câu 1\n",
    "from sympy import *\n",
    "A = Matrix([[2, 3, 1],\n",
    "            [4, 1, 5],\n",
    "            [7, 2, 6]])\n",
    "cof = A.cofactor_matrix()\n",
    "print(\"Ma trận hệ số kẹp (Cofactor):\")\n",
    "pprint(cof)\n",
    "adj = A.adjugate()\n",
    "print(\"\\nMa trận liên hợp (Adjoint):\")\n",
    "pprint(adj)"
   ]
  },
  {
   "cell_type": "code",
   "execution_count": 9,
   "id": "c09ab8a9",
   "metadata": {},
   "outputs": [
    {
     "name": "stdout",
     "output_type": "stream",
     "text": [
      "Phương trình đường tròn là:\n",
      "    2              2                \n",
      "10⋅x  - 40⋅x + 10⋅y  - 60⋅y + 80 = 0\n"
     ]
    }
   ],
   "source": [
    "#Câu 2\n",
    "from sympy import *\n",
    "x, y = symbols('x y')\n",
    "\n",
    "x1, y1 = 1, 1\n",
    "x2, y2 = 4, 2\n",
    "x3, y3 = 3, 5\n",
    "\n",
    "def sq(a, b):\n",
    "    return a**2 + b**2\n",
    "circle_matrix = Matrix([\n",
    "    [x**2 + y**2, x, y, 1],\n",
    "    [sq(x1, y1), x1, y1, 1],\n",
    "    [sq(x2, y2), x2, y2, 1],\n",
    "    [sq(x3, y3), x3, y3, 1]\n",
    "])\n",
    "circle_equation = simplify(circle_matrix.det())\n",
    "\n",
    "print(\"Phương trình đường tròn là:\")\n",
    "pprint(Eq(circle_equation, 0))"
   ]
  }
 ],
 "metadata": {
  "kernelspec": {
   "display_name": "Python 3",
   "language": "python",
   "name": "python3"
  },
  "language_info": {
   "codemirror_mode": {
    "name": "ipython",
    "version": 3
   },
   "file_extension": ".py",
   "mimetype": "text/x-python",
   "name": "python",
   "nbconvert_exporter": "python",
   "pygments_lexer": "ipython3",
   "version": "3.12.10"
  }
 },
 "nbformat": 4,
 "nbformat_minor": 5
}
