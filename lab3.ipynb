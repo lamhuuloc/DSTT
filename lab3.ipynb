{
 "cells": [
  {
   "cell_type": "code",
   "execution_count": 30,
   "id": "ffda8f24",
   "metadata": {},
   "outputs": [
    {
     "name": "stdout",
     "output_type": "stream",
     "text": [
      "F = np.eye(3, k=1):\n",
      " [[0. 1. 0.]\n",
      " [0. 0. 1.]\n",
      " [0. 0. 0.]]\n",
      "F1 = np.eye(3, k=0):\n",
      " [[1. 0. 0.]\n",
      " [0. 1. 0.]\n",
      " [0. 0. 1.]]\n",
      "F3 = np.eye(3, k=-1)  [[0. 0. 0.]\n",
      " [1. 0. 0.]\n",
      " [0. 1. 0.]]\n",
      "\n",
      "Hạng ma trận C: 5\n",
      "\n",
      "Ma trận nghịch đảo A.I:\n",
      " [[ 5.23215849 -7.81923219]\n",
      " [-3.90041559  7.43012645]]\n",
      "\n",
      "Ma trận nghịch đảo scipy.linalg.inv(A):\n",
      " [[ 5.23215849 -7.81923219]\n",
      " [-3.90041559  7.43012645]]\n",
      "Định thức ma trận A: 0.11936957524695573\n",
      "Chuyển vị A.T: [[0.88693104 0.46559095]\n",
      " [0.93337843 0.62456054]]\n",
      "Chuyển vị liên hợp A.H: [[0.88693104 0.46559095]\n",
      " [0.93337843 0.62456054]]\n",
      "\n",
      "Nghiệm hệ A x = b với b = [7 5] :\n",
      " [-2.47105149  9.84772308]\n",
      "\n",
      "Không giải được least squares: name 'F0' is not defined\n",
      "\n",
      "Cộng ma trận np.add(A, D):\n",
      " [[4.88693104 3.93337843]\n",
      " [2.46559095 6.62456054]]\n",
      "\n",
      "Trừ ma trận np.subtract(A, D):\n",
      " [[-3.11306896 -2.06662157]\n",
      " [-1.53440905 -5.37543946]]\n",
      "\n",
      "Chia ma trận np.divide(A, D):\n",
      " [[0.22173276 0.31112614]\n",
      " [0.23279548 0.10409342]]\n",
      "\n",
      "Nhân ma trận A @ D:\n",
      " [[5.414481   8.26106366]\n",
      " [3.11148488 5.14413608]]\n",
      "\n",
      "Nhân từng phần tử np.multiply(D, A):\n",
      " [[3.54772415 2.80013528]\n",
      " [0.93118191 3.74736322]]\n",
      "\n",
      "Tích np.dot(A, D):\n",
      " [[5.414481   8.26106366]\n",
      " [3.11148488 5.14413608]]\n",
      "\n",
      "Tích vô hướng np.vdot(A, D): [[3.54772415]]\n",
      "\n",
      "Hàm mũ ma trận linalg.expm(A):\n",
      " [[2.92938009 2.14040654]\n",
      " [1.06768476 2.3277168 ]]\n",
      "\n",
      "Hàm logarit ma trận linalg.logm(A):\n",
      " [[-0.78582123  1.97044847]\n",
      " [ 0.9829057  -1.3397097 ]]\n"
     ]
    }
   ],
   "source": [
    "#bài tập 1.1\n",
    "import numpy as np \n",
    "from scipy import linalg\n",
    "a = np.array([1, 2, 3]) \n",
    "b = np.array([(1+9j, 2j, 3j), (4j, 5j, 6j)])\n",
    "c = np.array([[ (0.5, 1.5, 10), (3,2,1) ] , [(6,5,4), (7,8,9)]])\n",
    "A = np.matrix(np.random.random( (2,2) ) ) \n",
    "B = np.asmatrix(b)\n",
    "C = np.matrix(np.random.random((10,5)))\n",
    "D = np.matrix([[4, 3], [2, 6]])\n",
    "F = np.eye(3, k=1)\n",
    "print(\"F = np.eye(3, k=1):\\n\", F)\n",
    "F1 = np.eye(3, k=0)\n",
    "print(\"F1 = np.eye(3, k=0):\\n\",F1) \n",
    "F3 = np.eye(3, k=-1) \n",
    "print(\"F3 = np.eye(3, k=-1) \", F3)\n",
    "rank_C = np.linalg.matrix_rank(C)\n",
    "print(\"\\nHạng ma trận C:\", rank_C)\n",
    "try:\n",
    "    inv_A = A.I\n",
    "    print(\"\\nMa trận nghịch đảo A.I:\\n\", inv_A)\n",
    "except:\n",
    "    print(\"\\nMa trận A không khả nghịch (không thể tính A.I)\")\n",
    "try:\n",
    "    inv_A_scipy = linalg.inv(A)\n",
    "    print(\"\\nMa trận nghịch đảo scipy.linalg.inv(A):\\n\", inv_A_scipy)\n",
    "except:\n",
    "    print(\"\\nMa trận A không khả nghịch (không thể tính scipy.linalg.inv)\")\n",
    "det_A = linalg.det(A)\n",
    "print(\"Định thức ma trận A:\", det_A)\n",
    "print(\"Chuyển vị A.T:\", A.T)\n",
    "print(\"Chuyển vị liên hợp A.H:\", A.H)\n",
    "b_vec = np.array([7, 5])\n",
    "try:\n",
    "    x = linalg.solve(A, b_vec)\n",
    "    print(\"\\nNghiệm hệ A x = b với b =\", b_vec, \":\\n\", x)\n",
    "except Exception as e:\n",
    "    print(\"\\nKhông giải được hệ phương trình:\", e)\n",
    "    E = np.mat(a).T\n",
    "    print(\"\\nMa trận cột E = np.mat(a).T:\\n\", E)\n",
    "try:\n",
    "    lstsq_res = linalg.lstsq(F0, E)\n",
    "    print(\"\\nGiải least squares linalg.lstsq(F, E):\\n\", lstsq_res)\n",
    "except Exception as e:\n",
    "    print(\"\\nKhông giải được least squares:\", e)\n",
    "print(\"\\nCộng ma trận np.add(A, D):\\n\", np.add(A, D))\n",
    "\n",
    "print(\"\\nTrừ ma trận np.subtract(A, D):\\n\", np.subtract(A, D))\n",
    "\n",
    "print(\"\\nChia ma trận np.divide(A, D):\\n\", np.divide(A, D))\n",
    "\n",
    "print(\"\\nNhân ma trận A @ D:\\n\", A @ D)\n",
    "\n",
    "print(\"\\nNhân từng phần tử np.multiply(D, A):\\n\", np.multiply(D, A))\n",
    "\n",
    "print(\"\\nTích np.dot(A, D):\\n\", np.dot(A, D))\n",
    "\n",
    "print(\"\\nTích vô hướng np.vdot(A, D):\", np.vdot(A, D))\n",
    "try:\n",
    "    exp_A = linalg.expm(A)\n",
    "    print(\"\\nHàm mũ ma trận linalg.expm(A):\\n\", exp_A)\n",
    "except Exception as e:\n",
    "    print(\"\\nKhông tính được expm(A):\", e)\n",
    "try:\n",
    "    log_A = linalg.logm(A)\n",
    "    print(\"\\nHàm logarit ma trận linalg.logm(A):\\n\", log_A)\n",
    "except Exception as e:\n",
    "    print(\"\\nKhông tính được logm(A):\", e)\n"
   ]
  },
  {
   "cell_type": "code",
   "execution_count": null,
   "id": "c2c3a360",
   "metadata": {},
   "outputs": [
    {
     "name": "stdout",
     "output_type": "stream",
     "text": [
      "[[0 1]\n",
      " [1 0]]\n",
      "[[1 0]\n",
      " [0 1]]\n",
      "[[0 1]\n",
      " [1 0]]\n",
      "---\n",
      "[[1 0]\n",
      " [0 1]]\n",
      "---\n",
      "[[0 1]\n",
      " [1 0]]\n",
      "---\n",
      "[[1 0]\n",
      " [0 1]]\n",
      "---\n",
      "[[0 1]\n",
      " [1 0]]\n",
      "---\n",
      "[[ 0 -1]\n",
      " [-1  0]]\n",
      "[[1 0]\n",
      " [0 1]]\n",
      "[[ 0 -1]\n",
      " [-1  0]]\n",
      "---\n",
      "[[1 0]\n",
      " [0 1]]\n",
      "---\n",
      "[[ 0 -1]\n",
      " [-1  0]]\n",
      "---\n",
      "[[1 0]\n",
      " [0 1]]\n",
      "---\n",
      "[[1.  0.  0. ]\n",
      " [0.  0.5 1. ]\n",
      " [0.  0.  0.5]]\n",
      "[[1.00000000e+000 0.00000000e+000 0.00000000e+000]\n",
      " [0.00000000e+000 4.66631809e-302 9.34196882e-299]\n",
      " [0.00000000e+000 0.00000000e+000 4.66631809e-302]]\n",
      "[[1. 0. 0.]\n",
      " [0. 0. 0.]\n",
      " [0. 0. 0.]]\n"
     ]
    }
   ],
   "source": [
    "#baitap2.3\n",
    "import numpy as np\n",
    "A = np.array([ [0,1], [1,0]])\n",
    "print(A)\n",
    "temp = A.dot(A)\n",
    "print(temp) \n",
    "k= 6\n",
    "for i in range(k-1):\n",
    " temp = temp.dot(A)\n",
    " print (temp)\n",
    " print('---')\n",
    "B = np.array([ [0,-1], [-1,0]])\n",
    "print(B) \n",
    "temp = B.dot(B) \n",
    "print(temp) \n",
    "k= 5\n",
    "for i in range(k-1):\n",
    " temp = temp.dot(B)\n",
    " print (temp)\n",
    " print('---')\n",
    "C = np.array([ [1, 0, 0], [0, 0.5, 1], [0, 0, 0.5] ])\n",
    "print(C)\n",
    "temp = C.dot(C)  \n",
    "k= 1000\n",
    "for i in range(k-1):\n",
    " temp = temp.dot(C)\n",
    "print(temp) \n",
    "k= 1000\n",
    "for i in range(k-1):\n",
    " temp = temp.dot(C)\n",
    "print(temp) \n"
   ]
  },
  {
   "cell_type": "code",
   "execution_count": 22,
   "id": "7b72ce10",
   "metadata": {},
   "outputs": [
    {
     "name": "stdout",
     "output_type": "stream",
     "text": [
      "[[0.7  0.45]\n",
      " [0.3  0.55]]\n",
      "[[0.7  0.45]\n",
      " [0.3  0.55]]\n",
      "[[0.6 0.6]\n",
      " [0.4 0.4]]\n"
     ]
    }
   ],
   "source": [
    "#baitap2.4\n",
    "import numpy as np\n",
    "M = np.array([ [0.8, 0.3], [0.2, 0.7]]) \n",
    "MM = M.dot(M)\n",
    "print (MM) \n",
    "MM = M.dot(M) \n",
    "print (MM) \n",
    "for i in range(100):\n",
    " MM = MM.dot(M)\n",
    "print (MM)"
   ]
  },
  {
   "cell_type": "code",
   "execution_count": 24,
   "id": "cd47b9e0",
   "metadata": {},
   "outputs": [
    {
     "name": "stdout",
     "output_type": "stream",
     "text": [
      "[[1. 0.]\n",
      " [0. 1.]]\n",
      "[[1.   0.  ]\n",
      " [0.25 1.  ]]\n",
      "[[0.8   0.3  ]\n",
      " [0.    0.625]]\n"
     ]
    },
    {
     "data": {
      "text/plain": [
       "array([[0.8, 0.3],\n",
       "       [0.2, 0.7]])"
      ]
     },
     "execution_count": 24,
     "metadata": {},
     "output_type": "execute_result"
    }
   ],
   "source": [
    "#baitap3.2\n",
    "import numpy as np\n",
    "M = np.array([ [0.8, 0.3], [0.2, 0.7]]) \n",
    "P, L, U = linalg.lu(M) \n",
    "print (P) \n",
    "print (L)\n",
    "print (U)  \n",
    "L.dot(U)"
   ]
  },
  {
   "cell_type": "code",
   "execution_count": null,
   "id": "5d54f4b7",
   "metadata": {},
   "outputs": [
    {
     "name": "stdout",
     "output_type": "stream",
     "text": [
      "[[1 1 1 0]\n",
      " [1 0 0 1]\n",
      " [1 2 0 1]\n",
      " [0 1 1 1]]\n",
      "[[1 1 1 2]\n",
      " [1 2 0 1]\n",
      " [1 2 2 1]\n",
      " [2 1 1 1]]\n"
     ]
    }
   ],
   "source": [
    "#bài toán ứng dụng 2\n",
    "import numpy as np\n",
    "A = np.array([ [0,1,0,1],[0,0,1,0],[1,0,0,1],[1,1,0,0]]) \n",
    "temp = A.dot(A) \n",
    "print(temp) \n",
    "temp = temp.dot(A) \n",
    "print(temp)"
   ]
  },
  {
   "cell_type": "code",
   "execution_count": 27,
   "id": "8c9b3b3e",
   "metadata": {},
   "outputs": [
    {
     "name": "stdout",
     "output_type": "stream",
     "text": [
      "[[1 1 1 2]\n",
      " [1 2 0 1]\n",
      " [1 2 2 1]\n",
      " [2 1 1 1]]\n",
      "[[2 3 2 3]\n",
      " [2 2 1 2]\n",
      " [3 4 2 3]\n",
      " [3 3 2 2]]\n"
     ]
    }
   ],
   "source": [
    "#tính tổng các ∑ A mũ i\n",
    "import numpy as np\n",
    "A = np.array([ [0,1,0,1],[0,0,1,0],[1,0,0,1],[1,1,0,0]]) \n",
    "sumA = A\n",
    "temp = A.dot(A)\n",
    "k = 3 \n",
    "sumA = sumA + temp\n",
    "for i in range(1, k-1):\n",
    "    temp = temp.dot(A)\n",
    "    sumA = sumA + temp \n",
    "print(temp)\n",
    "print(sumA)\n"
   ]
  },
  {
   "cell_type": "code",
   "execution_count": null,
   "id": "00172778",
   "metadata": {},
   "outputs": [
    {
     "name": "stdout",
     "output_type": "stream",
     "text": [
      "Định thức của ma trận A = 35.00000000000001\n",
      "=> Ma trận A khả nghịch.\n",
      "Ma trận nghịch đảo A⁻¹:\n",
      " [[ 0.37142857 -0.14285714 -0.02857143]\n",
      " [-0.14285714  0.28571429 -0.14285714]\n",
      " [-0.2         0.          0.4       ]]\n",
      "Vector mã ASCII:\n",
      " [[ 78 121  32 110]\n",
      " [103 101  86  32]\n",
      " [117 110  97  65]]\n",
      "Kết quả mã hóa:\n",
      " [[ 635  796  397  569]\n",
      " [ 983 1088  720  620]\n",
      " [ 610  673  441  447]]\n",
      "Giải mã:\n",
      " Nguyen Van A\n"
     ]
    }
   ],
   "source": [
    "# Câu 1\n",
    "import numpy as np\n",
    "A = np.array([[4, 2, 1],\n",
    "              [3, 5, 2],\n",
    "              [2, 1, 3]])\n",
    "\n",
    "det_A = np.linalg.det(A)\n",
    "print(\"Định thức của ma trận A =\", det_A)\n",
    "\n",
    "if det_A != 0:\n",
    "    print(\"=> Ma trận A khả nghịch.\")\n",
    "    A_inv = np.linalg.inv(A)\n",
    "    print(\"Ma trận nghịch đảo A⁻¹:\\n\", A_inv)\n",
    "else:\n",
    "    print(\"=> Ma trận A không khả nghịch.\")\n",
    "input_text = \"Nguyen Van A\" \n",
    "def text_to_vectors(text):\n",
    "    ascii_codes = [ord(ch) for ch in text]\n",
    "    while len(ascii_codes) % 3 != 0:\n",
    "        ascii_codes.append(0)  \n",
    "    matrix = np.array(ascii_codes).reshape(-1, 3).T\n",
    "    return matrix\n",
    "vecs = text_to_vectors(input_text)\n",
    "print(\"Vector mã ASCII:\\n\", vecs)\n",
    "encoded = A @ vecs\n",
    "print(\"Kết quả mã hóa:\\n\", encoded)\n",
    "decoded = A_inv @ encoded\n",
    "decoded = np.round(decoded).astype(int)\n",
    "\n",
    "decoded_text = ''.join([chr(val) for val in decoded.T.flatten() if val != 0])\n",
    "print(\"Giải mã:\\n\", decoded_text)\n"
   ]
  },
  {
   "cell_type": "code",
   "execution_count": null,
   "id": "92bdc72d",
   "metadata": {},
   "outputs": [
    {
     "name": "stdout",
     "output_type": "stream",
     "text": [
      "Kết quả: 8/3\n"
     ]
    }
   ],
   "source": [
    "#câu 2\n",
    "import numpy as np\n",
    "def continued_fraction(coeffs):\n",
    "    M = np.array([[1, 0], [0, 1]])\n",
    "    for c in coeffs:\n",
    "        M_c = np.array([[c, 1], [1, 0]])\n",
    "        M = M @ M_c\n",
    "    pn, pn_1 = M[0, 0], M[0, 1]\n",
    "    qn, qn_1 = M[1, 0], M[1, 1]\n",
    "    return pn, qn\n",
    "coeffs = [2, 1, 2]\n",
    "pn, qn = continued_fraction(coeffs)\n",
    "print(f\"Kết quả: {pn}/{qn}\")"
   ]
  }
 ],
 "metadata": {
  "kernelspec": {
   "display_name": "Python 3",
   "language": "python",
   "name": "python3"
  },
  "language_info": {
   "codemirror_mode": {
    "name": "ipython",
    "version": 3
   },
   "file_extension": ".py",
   "mimetype": "text/x-python",
   "name": "python",
   "nbconvert_exporter": "python",
   "pygments_lexer": "ipython3",
   "version": "3.12.10"
  }
 },
 "nbformat": 4,
 "nbformat_minor": 5
}
